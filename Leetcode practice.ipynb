{
 "cells": [
  {
   "cell_type": "markdown",
   "metadata": {},
   "source": [
    "## Coding practice\n",
    "...a simple notebook for practicing simple coding problems. Useful for greasing the coding wheels and forcing yourself to implement thoughtful solutions, as opposed to just hacking. (although indeed, most of my thoughtful solutions are still basic brute-force approaches--but at least I thought them through!)."
   ]
  },
  {
   "cell_type": "markdown",
   "metadata": {},
   "source": [
    "1) Two Sum\n",
    "\n",
    "Given an array of integers, return indices of the two numbers such that they add up to a specific target.\n",
    "\n",
    "You may assume that each input would have exactly one solution, and you may not use the same element twice.\n",
    "\n",
    "Example\n",
    "```\n",
    "Given nums = [2, 7, 11, 15], target = 9,\n",
    "\n",
    "Because nums[0] + nums[1] = 2 + 7 = 9,\n",
    "return [0, 1].\n",
    "```"
   ]
  },
  {
   "cell_type": "code",
   "execution_count": 61,
   "metadata": {
    "collapsed": true
   },
   "outputs": [],
   "source": [
    "class Solution1(object):\n",
    "    def twoSum(self, nums, target):\n",
    "        \"\"\"\n",
    "        :type nums: List[int]\n",
    "        :type target: int\n",
    "        :rtype: List[int]\n",
    "        \"\"\"\n",
    "            \n",
    "        for a,item1 in enumerate(nums):\n",
    "            for b,item2 in enumerate(nums[a+1:]):\n",
    "                if item2 == (target - item1):\n",
    "                    index1 = a\n",
    "                    index2 = a+b+1\n",
    "                    return [index1,index2]"
   ]
  },
  {
   "cell_type": "code",
   "execution_count": 62,
   "metadata": {
    "collapsed": false
   },
   "outputs": [],
   "source": [
    "blah=Solution1()"
   ]
  },
  {
   "cell_type": "code",
   "execution_count": 63,
   "metadata": {
    "collapsed": false
   },
   "outputs": [
    {
     "data": {
      "text/plain": [
       "[2, 3]"
      ]
     },
     "execution_count": 63,
     "metadata": {},
     "output_type": "execute_result"
    }
   ],
   "source": [
    "blah.twoSum([1,1,2,2,4,5,6],4)"
   ]
  },
  {
   "cell_type": "markdown",
   "metadata": {},
   "source": [
    "7) Reverse integer\n",
    "\n",
    "Given a 32-bit signed integer, reverse digits of an integer.\n",
    "\n",
    "Example 1:\n",
    "```\n",
    "Input: 123\n",
    "Output: 321\n",
    "```\n",
    "Example 2:\n",
    "```\n",
    "Input: -123\n",
    "Output: -321\n",
    "```\n",
    "Example 3:\n",
    "```\n",
    "Input: 120\n",
    "Output: 21\n",
    "```\n",
    "Note:\n",
    "Assume we are dealing with an environment which could only store integers within the 32-bit signed integer range: [−231,  231 − 1]. For the purpose of this problem, assume that your function returns 0 when the reversed integer overflows."
   ]
  },
  {
   "cell_type": "code",
   "execution_count": 64,
   "metadata": {
    "collapsed": true
   },
   "outputs": [],
   "source": [
    "class Solution7:\n",
    "    def reverse(self, x):\n",
    "        \"\"\"\n",
    "        :type x: int\n",
    "        :rtype: int\n",
    "        \"\"\"\n",
    "        xtemp = '-' + str(x)\n",
    "        xtemp = xtemp[-1:0:-1] # start at end, count to beginning (not inclusive) by 1 item\n",
    "        xtemp = xtemp.strip('-') # strip out all '-'\n",
    "        if x < 0:\n",
    "            xtemp = '-' + xtemp\n",
    "        xtemp = int(xtemp)\n",
    "        if (xtemp>2**31-1) | (xtemp<-2**31):\n",
    "            return 0\n",
    "        else:\n",
    "            return xtemp\n",
    "        "
   ]
  },
  {
   "cell_type": "code",
   "execution_count": 65,
   "metadata": {
    "collapsed": true
   },
   "outputs": [],
   "source": [
    "blah7=Solution7()"
   ]
  },
  {
   "cell_type": "code",
   "execution_count": 66,
   "metadata": {
    "collapsed": false
   },
   "outputs": [
    {
     "data": {
      "text/plain": [
       "489201"
      ]
     },
     "execution_count": 66,
     "metadata": {},
     "output_type": "execute_result"
    }
   ],
   "source": [
    "blah7.reverse(102984)"
   ]
  },
  {
   "cell_type": "markdown",
   "metadata": {},
   "source": [
    "9) Palidrome number\n",
    "\n",
    "Determine whether an integer is a palindrome. An integer is a palindrome when it reads the same backward as forward.\n",
    "\n",
    "Example 1:\n",
    "```\n",
    "Input: 121\n",
    "Output: true\n",
    "```\n",
    "\n",
    "Example 2:\n",
    "```\n",
    "Input: -121\n",
    "Output: false\n",
    "Explanation: From left to right, it reads -121. From right to left, it becomes 121-. Therefore it is not a palindrome.\n",
    "```\n",
    "\n",
    "Example 3:\n",
    "```\n",
    "Input: 10\n",
    "Output: false\n",
    "Explanation: Reads 01 from right to left. Therefore it is not a palindrome.\n",
    "```\n",
    "\n",
    "Follow up:\n",
    "Could you solve it without converting the integer to a string?"
   ]
  },
  {
   "cell_type": "code",
   "execution_count": 88,
   "metadata": {
    "collapsed": false
   },
   "outputs": [],
   "source": [
    "# my current implementation converts int to str\n",
    "# interesting: their solution makes clever use of modulus to do it purely numerically\n",
    "class Solution9:\n",
    "    def isPalindrome(self, x):\n",
    "        \"\"\"\n",
    "        :type x: int\n",
    "        :rtype: bool\n",
    "        \"\"\"\n",
    "        x = str(x)\n",
    "        xlen = len(x) # length of str\n",
    "        indtotest = (xlen - (xlen % 2))/2 # use mod to test if len is odd\n",
    "        result = True\n",
    "        for a in range(int(indtotest)):\n",
    "            if (x[a] == x[-1-a]) == False:\n",
    "                result = False\n",
    "        \n",
    "        return result"
   ]
  },
  {
   "cell_type": "code",
   "execution_count": 89,
   "metadata": {
    "collapsed": false
   },
   "outputs": [],
   "source": [
    "blah9 = Solution9()"
   ]
  },
  {
   "cell_type": "code",
   "execution_count": 90,
   "metadata": {
    "collapsed": false
   },
   "outputs": [
    {
     "data": {
      "text/plain": [
       "True"
      ]
     },
     "execution_count": 90,
     "metadata": {},
     "output_type": "execute_result"
    }
   ],
   "source": [
    "blah9.isPalindrome(123321)"
   ]
  },
  {
   "cell_type": "markdown",
   "metadata": {},
   "source": [
    "14) Longest Common Prefix\n",
    "\n",
    "Write a function to find the longest common prefix string amongst an array of strings.\n",
    "\n",
    "If there is no common prefix, return an empty string \"\".\n",
    "\n",
    "Example 1:\n",
    "```\n",
    "Input: [\"flower\",\"flow\",\"flight\"]\n",
    "Output: \"fl\"\n",
    "```\n",
    "\n",
    "Example 2:\n",
    "```\n",
    "Input: [\"dog\",\"racecar\",\"car\"]\n",
    "Output: \"\"\n",
    "Explanation: There is no common prefix among the input strings.\n",
    "```\n",
    "\n",
    "Note: All given inputs are in lowercase letters a-z."
   ]
  },
  {
   "cell_type": "markdown",
   "metadata": {},
   "source": [
    "My notes and approach\n",
    "* inputs are all lowercase letters, a-z\n",
    "* only care about the front of the word\n",
    "* longest prefix is limited by length of smallest word\n",
    "* if no common prefix, then return empty string\n",
    "* input is list of strings\n",
    "\n",
    "Brute force method\n",
    "* find the shortest string in the list\n",
    "* split all strings into char, so have list of char lists\n",
    "* then iterate through all pairwise comparisons of words for letters no more than length of smallest word\n",
    "* if even the first letter is not the same, you stop\n",
    "* similarly, if any two comparisons are not the same, you stop\n",
    "* BUT you don't want to compare against yourself!\n",
    "\n",
    "And so the slowest part of this brute force approach is O(n^2) in worst case scenario --> actually, it's closer to O(n) since we find the smallest word first, and then make comparisons to that smallest word.\n",
    "\n",
    "Somehow LeetCode is rejecting my code, returning a nebulous `IndexError: list index out of range` for when I try to use SmWordIdx. But I don't think there's any problem here..."
   ]
  },
  {
   "cell_type": "code",
   "execution_count": 259,
   "metadata": {
    "collapsed": false
   },
   "outputs": [],
   "source": [
    "class Solution14:\n",
    "    def longestCommonPrefix(self,strs):\n",
    "        # first find smallest word\n",
    "        SmWordIdx = 0\n",
    "        for e,word in enumerate(strs):\n",
    "            SmallestLen = len(word)\n",
    "            if e==0:\n",
    "                PrevSmallest = SmallestLen\n",
    "            elif SmallestLen < PrevSmallest:\n",
    "                PrevSmallest = SmallestLen\n",
    "                SmWordIdx = e # store index to smallest word\n",
    "        print('Smallest word:' + strs[SmWordIdx])\n",
    "\n",
    "        # then split words into list of char\n",
    "        splitstr = []\n",
    "        for word in strs:\n",
    "            letters = [let for let in word]\n",
    "            splitstr.append(letters)\n",
    "\n",
    "        # then iterate through all pairwise comparisons of words' letters\n",
    "        commonprefix = ''\n",
    "        # only need to compare against smallest word\n",
    "        for b,let in enumerate(splitstr[SmWordIdx]):\n",
    "            for c,wordlets2 in enumerate(splitstr):\n",
    "                let2 = wordlets2[b] # only look at the same letter\n",
    "                if SmWordIdx!=c: # look at different words\n",
    "                    if(let!=let2): # if any let at this position in any word is not same, then return\n",
    "                        return commonprefix\n",
    "            commonprefix = commonprefix + let\n",
    "        # still need to return something (in case all words are subsets of others)\n",
    "        return commonprefix"
   ]
  },
  {
   "cell_type": "code",
   "execution_count": 261,
   "metadata": {
    "collapsed": false,
    "scrolled": true
   },
   "outputs": [
    {
     "name": "stdout",
     "output_type": "stream",
     "text": [
      "Smallest word:dog\n",
      "dog\n"
     ]
    }
   ],
   "source": [
    "strs2 = ['dog','racecar','car']\n",
    "strs3 = ['doggy','doggydog','dog']\n",
    "blah = Solution14()\n",
    "result = blah.longestCommonPrefix(strs3)\n",
    "print(result)"
   ]
  },
  {
   "cell_type": "markdown",
   "metadata": {},
   "source": [
    "20) Valid Parenthesis\n",
    "\n",
    "Given a string containing just the characters `'('`, `')'`, `'{'`, `'}'`, `'['` and `']'`, determine if the input string is valid.\n",
    "\n",
    "An input string is valid if:\n",
    "\n",
    "Open brackets must be closed by the same type of brackets.\n",
    "Open brackets must be closed in the correct order.\n",
    "Note that an empty string is also considered valid.\n",
    "\n",
    "Example 1:\n",
    "```\n",
    "Input: \"()\"\n",
    "Output: true\n",
    "```\n",
    "Example 2:\n",
    "```\n",
    "Input: \"()[]{}\"\n",
    "Output: true\n",
    "```\n",
    "Example 3:\n",
    "```\n",
    "Input: \"(]\"\n",
    "Output: false\n",
    "```\n",
    "Example 4:\n",
    "```\n",
    "Input: \"([)]\"\n",
    "Output: false\n",
    "```\n",
    "Example 5:\n",
    "```\n",
    "Input: \"{[]}\"\n",
    "Output: true\n",
    "```"
   ]
  },
  {
   "cell_type": "markdown",
   "metadata": {},
   "source": [
    "Some rules that a valid string must comply by\n",
    "* you can't ever have a right bracket proceed a left bracket\n",
    "* the number of brackets for a given type should always be even (although evenness does not guarantee validity! could have `((`\n",
    "* more generally, the number of brackets in the whole string should always be even (although evenness does not guarantee validity! could have `(((]`)\n",
    "* brackets are last in, first out, i.e. the most recently opened bracket must always be the first one to be closed\n",
    "\n",
    "So an algorithm could be as follows\n",
    "* check if string has even number of char, if so proceed, if not, return false\n",
    "* check if each bracket type has even number of char, if so proceed, if not, return false\n",
    "* ...hmm this seems too complicated...maybe we should just stick with the LIFO rule above, \n",
    "\n",
    "e.g.\n",
    "* read the string 1 char at a time, keep appending items to the running string of left brackets\n",
    "* if the next item is a right bracket, check the most recent left bracket, \n",
    "    * if it matches, then remove most recent left bracket from running string of left brackets\n",
    "    * if it doesn't match, return false\n",
    "    * if there are no left brackets left, return false\n",
    "* continue until you reach the end of the string and return true\n",
    "\n",
    "Some other edge cases to think about\n",
    "* `(` (only one char)\n",
    "* `(()` (only one type of char with multiple left brackets)"
   ]
  },
  {
   "cell_type": "code",
   "execution_count": 352,
   "metadata": {
    "collapsed": true
   },
   "outputs": [],
   "source": [
    "class Solution20:\n",
    "    def isLRBracket2(char):\n",
    "        # return 0 for left, 1 for right type of bracket, plus index to type of bracket\n",
    "        lefttypes = ['(','{','[']\n",
    "        righttypes= [')','}',']']\n",
    "        for c,ltype in enumerate(lefttypes):\n",
    "            if ltype == char:\n",
    "                return (0,c) # for left type\n",
    "        for d,rtype in enumerate(righttypes):\n",
    "            if rtype == char:\n",
    "                return (1,d) # for right type\n",
    "            \n",
    "    def isValid(self, s):\n",
    "        \"\"\"\n",
    "        :type s: str\n",
    "        :rtype: bool\n",
    "        \"\"\"\n",
    "        lefttypes = ['(','{','[']\n",
    "        righttypes= [')','}',']']\n",
    "        \n",
    "        leftbrackets = []\n",
    "        for a,char in enumerate(s):\n",
    "            if a==0: # first char of string needs to be left!\n",
    "                for b,ltype in enumerate(lefttypes):\n",
    "                    if ltype == char: # check if the current char is a valid left bracket\n",
    "                        leftbrackets.append(b) # append index if so\n",
    "                if len(leftbrackets)==0: # first bracket is not a left one\n",
    "                    print(str(len(leftbrackets)))\n",
    "                    return False\n",
    "                elif len(s)==1: # if there's only 1 char\n",
    "                    return False\n",
    "            else: # for remaining chars\n",
    "                # determine whether char is left or right char\n",
    "                #LRCharFlag = isLRBracket(char) # it's prob not OK (but still works) to define a function outside of class scope\n",
    "                LRCharFlag = Solution20.isLRBracket2(char) # can also just define the helper func in our class and call it from our class\n",
    "                '''for c,ltype in enumerate(lefttypes):\n",
    "                    if ltype == char:\n",
    "                        LRCharFlag = (0,c) # for left type\n",
    "                for d,rtype in enumerate(righttypes):\n",
    "                    if rtype == char:\n",
    "                        LRCharFlag = (1,d) # for right type\n",
    "                '''\n",
    "                # if it's a right char, check against list of leftbrackets\n",
    "                if LRCharFlag[0]:\n",
    "                    if len(leftbrackets)==0: # no left brackets remaining\n",
    "                        return False\n",
    "                    elif LRCharFlag[1] == leftbrackets[-1]: # LIFO\n",
    "                        leftbrackets.pop() # remove most recent left bracket\n",
    "                    else:\n",
    "                        return False\n",
    "                # if it's a left char, append ID to list of leftbracket IDs\n",
    "                else:\n",
    "                    leftbrackets.append(LRCharFlag[1])\n",
    "        \n",
    "        # return True of empty str (no for loop) or if for loop\n",
    "        # finishes without problems and with no leftchars remaining\n",
    "        if len(leftbrackets)==0:\n",
    "            return True\n",
    "        else:\n",
    "            return False"
   ]
  },
  {
   "cell_type": "code",
   "execution_count": 320,
   "metadata": {
    "collapsed": false
   },
   "outputs": [
    {
     "data": {
      "text/plain": [
       "-6"
      ]
     },
     "execution_count": 320,
     "metadata": {},
     "output_type": "execute_result"
    }
   ],
   "source": [
    "# python tilde operator is NOT negation logic as in matlab...\n",
    "~5"
   ]
  },
  {
   "cell_type": "code",
   "execution_count": 324,
   "metadata": {
    "collapsed": true
   },
   "outputs": [],
   "source": [
    "def isLRBracket(char):\n",
    "    # return 0 for left, 1 for right type of bracket, plus index to type of bracket\n",
    "    lefttypes = ['(','{','[']\n",
    "    righttypes= [')','}',']']\n",
    "    #print('hello!')\n",
    "    for c,ltype in enumerate(lefttypes):\n",
    "        if ltype == char:\n",
    "            return (0,c) # for left type\n",
    "    for d,rtype in enumerate(righttypes):\n",
    "        if rtype == char:\n",
    "            return (1,d) # for right type"
   ]
  },
  {
   "cell_type": "code",
   "execution_count": 353,
   "metadata": {
    "collapsed": true
   },
   "outputs": [],
   "source": [
    "blah = Solution20()"
   ]
  },
  {
   "cell_type": "code",
   "execution_count": 357,
   "metadata": {
    "collapsed": false
   },
   "outputs": [
    {
     "data": {
      "text/plain": [
       "False"
      ]
     },
     "execution_count": 357,
     "metadata": {},
     "output_type": "execute_result"
    }
   ],
   "source": [
    "blah.isValid('(([[')"
   ]
  },
  {
   "cell_type": "markdown",
   "metadata": {},
   "source": [
    "Random testing below"
   ]
  },
  {
   "cell_type": "code",
   "execution_count": 136,
   "metadata": {
    "collapsed": true
   },
   "outputs": [],
   "source": [
    "temp = lambda x,y,z=2: x+y+z"
   ]
  },
  {
   "cell_type": "code",
   "execution_count": 109,
   "metadata": {
    "collapsed": false
   },
   "outputs": [],
   "source": [
    "blah = {}"
   ]
  },
  {
   "cell_type": "code",
   "execution_count": 110,
   "metadata": {
    "collapsed": false
   },
   "outputs": [
    {
     "data": {
      "text/plain": [
       "dict"
      ]
     },
     "execution_count": 110,
     "metadata": {},
     "output_type": "execute_result"
    }
   ],
   "source": [
    "type(blah)"
   ]
  },
  {
   "cell_type": "code",
   "execution_count": 141,
   "metadata": {
    "collapsed": false
   },
   "outputs": [
    {
     "data": {
      "text/plain": [
       "15"
      ]
     },
     "execution_count": 141,
     "metadata": {},
     "output_type": "execute_result"
    }
   ],
   "source": [
    "result = 0\n",
    "for x in [1,2,3,4,5]:\n",
    "    result = result+x\n",
    "result"
   ]
  },
  {
   "cell_type": "code",
   "execution_count": 151,
   "metadata": {
    "collapsed": false
   },
   "outputs": [],
   "source": [
    "dict_a = {'name': 'python', 'points': 10,'name': 'java', 'points': 8}\n",
    "  \n",
    "#list(map(lambda x : x['name'], dict_a)) # Output: ['python', 'java']"
   ]
  },
  {
   "cell_type": "code",
   "execution_count": 152,
   "metadata": {
    "collapsed": false
   },
   "outputs": [
    {
     "data": {
      "text/plain": [
       "dict"
      ]
     },
     "execution_count": 152,
     "metadata": {},
     "output_type": "execute_result"
    }
   ],
   "source": [
    "type(dict_a)"
   ]
  },
  {
   "cell_type": "code",
   "execution_count": 156,
   "metadata": {
    "collapsed": false
   },
   "outputs": [],
   "source": [
    "dict_a.fromkeys?"
   ]
  },
  {
   "cell_type": "code",
   "execution_count": 164,
   "metadata": {
    "collapsed": false
   },
   "outputs": [
    {
     "data": {
      "text/plain": [
       "dict_items([('name', 'java'), ('points', 8)])"
      ]
     },
     "execution_count": 164,
     "metadata": {},
     "output_type": "execute_result"
    }
   ],
   "source": [
    "dict_a.items()"
   ]
  },
  {
   "cell_type": "code",
   "execution_count": 179,
   "metadata": {
    "collapsed": true
   },
   "outputs": [],
   "source": [
    "dict_b = {'height': 10, 'weight': 100, 'depth': 10.5, 'width': 145}"
   ]
  },
  {
   "cell_type": "code",
   "execution_count": 182,
   "metadata": {
    "collapsed": false
   },
   "outputs": [
    {
     "data": {
      "text/plain": [
       "{'depthdepth': 5.25,\n",
       " 'heightheight': 5.0,\n",
       " 'weightweight': 50.0,\n",
       " 'widthwidth': 72.5}"
      ]
     },
     "execution_count": 182,
     "metadata": {},
     "output_type": "execute_result"
    }
   ],
   "source": [
    "{k*2:v/2 for (k,v) in dict_b.items()}"
   ]
  },
  {
   "cell_type": "code",
   "execution_count": 177,
   "metadata": {
    "collapsed": false
   },
   "outputs": [
    {
     "data": {
      "text/plain": [
       "dict_items([('weight', '100'), ('depth', '10.5'), ('width', '145'), ('height', '10')])"
      ]
     },
     "execution_count": 177,
     "metadata": {},
     "output_type": "execute_result"
    }
   ],
   "source": [
    "dict_b.items()"
   ]
  },
  {
   "cell_type": "code",
   "execution_count": 183,
   "metadata": {
    "collapsed": false
   },
   "outputs": [
    {
     "data": {
      "text/plain": [
       "tuple"
      ]
     },
     "execution_count": 183,
     "metadata": {},
     "output_type": "execute_result"
    }
   ],
   "source": [
    "blah2 = (1,2,3,4,5)\n",
    "type(blah2)"
   ]
  },
  {
   "cell_type": "code",
   "execution_count": 188,
   "metadata": {
    "collapsed": true
   },
   "outputs": [],
   "source": [
    "import numpy as np"
   ]
  },
  {
   "cell_type": "code",
   "execution_count": 190,
   "metadata": {
    "collapsed": false
   },
   "outputs": [
    {
     "data": {
      "text/plain": [
       "array([[ 4,  4,  4],\n",
       "       [ 8,  8,  8],\n",
       "       [12, 12, 12]])"
      ]
     },
     "execution_count": 190,
     "metadata": {},
     "output_type": "execute_result"
    }
   ],
   "source": [
    "a = np.array([[1,1,1],[2,2,2],[3,3,3]])\n",
    "b= np.array([[4,4,4]])\n",
    "a*b"
   ]
  },
  {
   "cell_type": "code",
   "execution_count": 197,
   "metadata": {
    "collapsed": false
   },
   "outputs": [
    {
     "data": {
      "text/plain": [
       "[0, 1, 2, 3, 4, 5, 6]"
      ]
     },
     "execution_count": 197,
     "metadata": {},
     "output_type": "execute_result"
    }
   ],
   "source": [
    "blah = list(set([3,3,4,5,6,1,1,2,2,0]))\n",
    "blah"
   ]
  },
  {
   "cell_type": "code",
   "execution_count": 199,
   "metadata": {
    "collapsed": false
   },
   "outputs": [],
   "source": [
    "set?"
   ]
  },
  {
   "cell_type": "code",
   "execution_count": 358,
   "metadata": {
    "collapsed": false
   },
   "outputs": [
    {
     "data": {
      "text/plain": [
       "array([[-2.00939286],\n",
       "       [ 0.06496924],\n",
       "       [ 0.80005106],\n",
       "       [ 1.07137245]])"
      ]
     },
     "execution_count": 358,
     "metadata": {},
     "output_type": "execute_result"
    }
   ],
   "source": [
    "blah = np.random.randn(4,3)\n",
    "np.sum(blah,axis=1,keepdims=True)"
   ]
  },
  {
   "cell_type": "code",
   "execution_count": null,
   "metadata": {
    "collapsed": true
   },
   "outputs": [],
   "source": []
  }
 ],
 "metadata": {
  "kernelspec": {
   "display_name": "Python [Root]",
   "language": "python",
   "name": "Python [Root]"
  },
  "language_info": {
   "codemirror_mode": {
    "name": "ipython",
    "version": 3
   },
   "file_extension": ".py",
   "mimetype": "text/x-python",
   "name": "python",
   "nbconvert_exporter": "python",
   "pygments_lexer": "ipython3",
   "version": "3.5.2"
  }
 },
 "nbformat": 4,
 "nbformat_minor": 0
}
